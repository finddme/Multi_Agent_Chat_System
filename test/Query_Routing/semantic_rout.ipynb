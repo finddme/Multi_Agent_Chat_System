{
    "cells": [
        {
            "cell_type": "code",
            "execution_count": 14,
            "id": "935181c0-2cf7-4e3a-91c1-716db8a3e4fe",
            "metadata": {},
            "outputs": [],
            "source": [
                "from semantic_router import Route\n",
                "\n",
                "ai = Route(\n",
                "    name=\"ai\",\n",
                "    utterances=[\n",
                "        \"LLaMa 3 모델 구조에 대해 알려줘\",\n",
                "        \"2022년부터 2023년 사이 주목 받은 LLM모델들 알려줘\",\n",
                "        \"LLM이 뭐야?\",\n",
                "        \"OCR에 필요한 기술들 알려줘\",\n",
                "        \"RAG이 뭐야?\",\n",
                "    ],\n",
                ")\n",
                "\n",
                "chitchat = Route(\n",
                "    name=\"chitchat\",\n",
                "    utterances=[\n",
                "        \"안녕!\",\n",
                "        \"오늘 기분이 좋아.\",\n",
                "        \"저녁 메뉴 추천해줘\",\n",
                "        \"주말에 볼 넷플릭스 영화 추천해줘\",\n",
                "        \"평화롭고 좋다\",\n",
                "    ],\n",
                ")\n",
                "\n",
                "# we place both of our decisions together into single list\n",
                "routes = [ai, chitchat]"
            ]
        },
        {
            "cell_type": "code",
            "execution_count": 15,
            "id": "56c1c2d7-839a-4819-8f6d-48e6187e71b1",
            "metadata": {},
            "outputs": [],
            "source": [
                "Openai_API_KEY = \"\"\n",
                "os.environ[\"OPENAI_API_KEY\"] =  Openai_API_KEY\n",
                "encoder = OpenAIEncoder()"
            ]
        },
        {
            "cell_type": "code",
            "execution_count": 16,
            "id": "159ca73b-b8f1-49bc-8e1b-4553264c8127",
            "metadata": {},
            "outputs": [],
            "source": [
                "from semantic_router.layer import RouteLayer\n",
                "\n",
                "route_layer = RouteLayer(encoder=encoder, routes=routes)"
            ]
        },
        {
            "cell_type": "code",
            "execution_count": 20,
            "id": "daae393a-b8f3-407b-9bf9-1ccfe7bc0942",
            "metadata": {},
            "outputs": [
                {
                    "name": "stdout",
                    "output_type": "stream",
                    "text": [
                        "ai, chitchat\n"
                    ]
                }
            ],
            "source": [
                "print(f\"{route_layer('mistral 모델 구조 알려줘').name}, {route_layer('오늘 조금 피곤한데 피로 해소 방법 알려줘').name}\")"
            ]
        },
        {
            "cell_type": "code",
            "execution_count": null,
            "id": "ff7c46e8-9635-4625-b7c3-8e5ae968dd9d",
            "metadata": {},
            "outputs": [],
            "source": []
        }
    ],
    "metadata": {
        "kernelspec": {
            "display_name": "Python 3 (ipykernel)",
            "language": "python",
            "name": "python3"
        },
        "language_info": {
            "codemirror_mode": {
                "name": "ipython",
                "version": 3
            },
            "file_extension": ".py",
            "mimetype": "text/x-python",
            "name": "python",
            "nbconvert_exporter": "python",
            "pygments_lexer": "ipython3",
            "version": "3.10.12"
        }
    },
    "nbformat": 4,
    "nbformat_minor": 5
}