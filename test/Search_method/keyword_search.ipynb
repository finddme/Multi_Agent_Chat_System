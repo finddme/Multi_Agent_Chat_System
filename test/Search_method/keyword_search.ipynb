{
 "cells": [
  {
   "cell_type": "code",
   "execution_count": 23,
   "id": "67631710-7613-4bba-b52e-5a439e105bd1",
   "metadata": {},
   "outputs": [
    {
     "data": {
      "text/plain": [
       "[{'score': 0.0,\n",
       "  'sentence': '최근 생성형 모델과 함께 사용되는 RAG의 retrieval 단계에서는 qeury와 유사한 chunk를 찾는 것이 매우 중요하다. 검색된 chunk가 모델에 참고 문서로 입력되기 때문에 유사도 검색 결과가 최종 결과에 큰 영향을 미친다.'},\n",
       " {'score': 0.0,\n",
       "  'sentence': 'Semantic Search는 text를 모델을 통해 embedding시킨 후 embedding vector들의 거리를 통해 유사도를 검색하는 방법이다.'},\n",
       " {'score': 0.7888807421401189,\n",
       "  'sentence': 'BM25는 TF-IDF 알고리즘을 기반으로 한 키워드 검색 알고리즘이다. 매우 오래된 알고리즘이고, 이를 기반으로 한 여러 variation들이 제안되었지만 keyword search에 있어서 아직까지는 클래식이 베스트이다.'},\n",
       " {'score': 0.0,\n",
       "  'sentence': '사용자의 질문이 명확하지 않은 경우, similarity search 과정에서 오류가 발생할 수 있다.'}]"
      ]
     },
     "execution_count": 23,
     "metadata": {},
     "output_type": "execute_result"
    }
   ],
   "source": [
    "from rank_bm25 import BM25Okapi\n",
    "corpus = [\n",
    "    \"최근 생성형 모델과 함께 사용되는 RAG의 retrieval 단계에서는 qeury와 유사한 chunk를 찾는 것이 매우 중요하다. 검색된 chunk가 모델에 참고 문서로 입력되기 때문에 유사도 검색 결과가 최종 결과에 큰 영향을 미친다.\",\n",
    "    \"Semantic Search는 text를 모델을 통해 embedding시킨 후 embedding vector들의 거리를 통해 유사도를 검색하는 방법이다.\",\n",
    "    \"BM25는 TF-IDF 알고리즘을 기반으로 한 키워드 검색 알고리즘이다. 매우 오래된 알고리즘이고, 이를 기반으로 한 여러 variation들이 제안되었지만 keyword search에 있어서 아직까지는 클래식이 베스트이다.\",\n",
    "    \"사용자의 질문이 명확하지 않은 경우, similarity search 과정에서 오류가 발생할 수 있다.\"\n",
    "]\n",
    "query = \"키워드 검색 방법에 대해 알려줘\"\n",
    "\n",
    "def bm25_keyword_search(corpus,query):\n",
    "    tokenized_corpus = [doc.split(\" \") for doc in corpus]\n",
    "    tokenized_query = query.split(\" \")\n",
    "    \n",
    "    bm25 = BM25Okapi(tokenized_corpus)\n",
    "    doc_scores = list(bm25.get_scores(tokenized_query)) # score\n",
    "    doc_top_n=bm25.get_top_n(tokenized_query, corpus, n=1) # top_n\n",
    "\n",
    "    # map_res= map(lambda score, c: {\"score\": score, \"sentence\": c}, doc_scores, corpus)\n",
    "    res=result = list(map(lambda score, sentence: {\"score\": score, \"sentence\": sentence}, doc_scores, corpus))\n",
    "    \n",
    "    return res\n",
    "    \n",
    "bm25_keyword_search(corpus,query)"
   ]
  },
  {
   "cell_type": "code",
   "execution_count": null,
   "id": "283952cf-6e00-40ac-bffa-4b6a6bbb7ac8",
   "metadata": {},
   "outputs": [],
   "source": [
    "map_res=lambda score, sentence: {\"score\": score, \"sentence\": sentence}, scores, sentences)"
   ]
  },
  {
   "cell_type": "code",
   "execution_count": null,
   "id": "58986818-dc70-4adf-b61f-6d5a5d6ef16a",
   "metadata": {},
   "outputs": [],
   "source": []
  }
 ],
 "metadata": {
  "kernelspec": {
   "display_name": "Python 3 (ipykernel)",
   "language": "python",
   "name": "python3"
  },
  "language_info": {
   "codemirror_mode": {
    "name": "ipython",
    "version": 3
   },
   "file_extension": ".py",
   "mimetype": "text/x-python",
   "name": "python",
   "nbconvert_exporter": "python",
   "pygments_lexer": "ipython3",
   "version": "3.10.12"
  }
 },
 "nbformat": 4,
 "nbformat_minor": 5
}
