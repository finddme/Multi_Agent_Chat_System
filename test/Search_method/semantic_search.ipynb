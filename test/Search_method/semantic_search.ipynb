{
 "cells": [
  {
   "cell_type": "code",
   "execution_count": 3,
   "id": "6c761557-4c9c-4dbc-8311-6e14b74efd15",
   "metadata": {},
   "outputs": [
    {
     "name": "stderr",
     "output_type": "stream",
     "text": [
      "/usr/local/lib/python3.10/dist-packages/sentence_transformers/cross_encoder/CrossEncoder.py:11: TqdmWarning: IProgress not found. Please update jupyter and ipywidgets. See https://ipywidgets.readthedocs.io/en/stable/user_install.html\n",
      "  from tqdm.autonotebook import tqdm, trange\n"
     ]
    }
   ],
   "source": [
    "from sentence_transformers import SentenceTransformer\n",
    "\n",
    "embedd_model = SentenceTransformer(\"sentence-transformers/all-MiniLM-L6-v2\")"
   ]
  },
  {
   "cell_type": "code",
   "execution_count": 20,
   "id": "647904d4-e512-47d2-b226-abb90e25e98b",
   "metadata": {},
   "outputs": [],
   "source": [
    "corpus = [\n",
    "    \"최근 생성형 모델과 함께 사용되는 RAG의 retrieval 단계에서는 qeury와 유사한 chunk를 찾는 것이 매우 중요하다. 검색된 chunk가 모델에 참고 문서로 입력되기 때문에 유사도 검색 결과가 최종 결과에 큰 영향을 미친다.\",\n",
    "    \"Semantic Search는 text를 모델을 통해 embedding시킨 후 embedding vector들의 거리를 통해 유사도를 검색하는 방법이다.\",\n",
    "    \"BM25는 TF-IDF 알고리즘을 기반으로 한 키워드 검색 알고리즘이다. 매우 오래된 알고리즘이고, 이를 기반으로 한 여러 variation들이 제안되었지만 keyword search에 있어서 아직까지는 클래식이 베스트이다.\",\n",
    "    \"사용자의 질문이 명확하지 않은 경우, similarity search 과정에서 오류가 발생할 수 있다.\"\n",
    "]\n",
    "query = \"Semantic Search 방법에 대해 알려줘\""
   ]
  },
  {
   "cell_type": "code",
   "execution_count": 21,
   "id": "a71796e7-70c2-469b-9df6-cfd2c14aaef6",
   "metadata": {},
   "outputs": [],
   "source": [
    "document_embeddings = embedd_model.encode(corpus)"
   ]
  },
  {
   "cell_type": "code",
   "execution_count": 22,
   "id": "e3521ded-771f-46eb-912b-4982ae9dd42e",
   "metadata": {},
   "outputs": [
    {
     "name": "stdout",
     "output_type": "stream",
     "text": [
      "(4, 384)\n"
     ]
    }
   ],
   "source": [
    "print(document_embeddings.shape)"
   ]
  },
  {
   "cell_type": "code",
   "execution_count": 23,
   "id": "a3ec7081-3ac6-4291-acbe-98079cab6a89",
   "metadata": {},
   "outputs": [],
   "source": [
    "query_embedding = embedd_model.encode(query)"
   ]
  },
  {
   "cell_type": "code",
   "execution_count": 26,
   "id": "52dc0fa6-521e-4760-bf42-7be530a473d9",
   "metadata": {},
   "outputs": [
    {
     "data": {
      "text/plain": [
       "[0.3132789731025696, 0.7019628882408142, 0.5864437222480774, 0.588509738445282]"
      ]
     },
     "execution_count": 26,
     "metadata": {},
     "output_type": "execute_result"
    }
   ],
   "source": [
    "from sentence_transformers.util import cos_sim\n",
    "\n",
    "# Compute cosine_similarity between documents and query\n",
    "scores = cos_sim(document_embeddings, query_embedding)\n",
    "sum(scores.tolist(),[])"
   ]
  },
  {
   "cell_type": "code",
   "execution_count": null,
   "id": "36b90efb-23d5-4f08-bcca-6a32e86ef621",
   "metadata": {},
   "outputs": [],
   "source": []
  },
  {
   "cell_type": "code",
   "execution_count": null,
   "id": "00a24e96-db07-4d8b-a924-23750080022a",
   "metadata": {},
   "outputs": [],
   "source": []
  },
  {
   "cell_type": "code",
   "execution_count": null,
   "id": "5d53de19-1367-4fa2-baae-baff67f1989b",
   "metadata": {},
   "outputs": [],
   "source": []
  },
  {
   "cell_type": "code",
   "execution_count": 28,
   "id": "5c58c35b-8a63-4f3d-a223-cc980bad896c",
   "metadata": {},
   "outputs": [
    {
     "data": {
      "text/plain": [
       "[{'score': 0.3132789731025696,\n",
       "  'sentence': '최근 생성형 모델과 함께 사용되는 RAG의 retrieval 단계에서는 qeury와 유사한 chunk를 찾는 것이 매우 중요하다. 검색된 chunk가 모델에 참고 문서로 입력되기 때문에 유사도 검색 결과가 최종 결과에 큰 영향을 미친다.'},\n",
       " {'score': 0.7019628882408142,\n",
       "  'sentence': 'Semantic Search는 text를 모델을 통해 embedding시킨 후 embedding vector들의 거리를 통해 유사도를 검색하는 방법이다.'},\n",
       " {'score': 0.5864437222480774,\n",
       "  'sentence': 'BM25는 TF-IDF 알고리즘을 기반으로 한 키워드 검색 알고리즘이다. 매우 오래된 알고리즘이고, 이를 기반으로 한 여러 variation들이 제안되었지만 keyword search에 있어서 아직까지는 클래식이 베스트이다.'},\n",
       " {'score': 0.588509738445282,\n",
       "  'sentence': '사용자의 질문이 명확하지 않은 경우, similarity search 과정에서 오류가 발생할 수 있다.'}]"
      ]
     },
     "execution_count": 28,
     "metadata": {},
     "output_type": "execute_result"
    }
   ],
   "source": [
    "from sentence_transformers import SentenceTransformer\n",
    "from sentence_transformers.util import cos_sim\n",
    "\n",
    "embedd_model = SentenceTransformer(\"sentence-transformers/all-MiniLM-L6-v2\")\n",
    "\n",
    "corpus = [\n",
    "    \"최근 생성형 모델과 함께 사용되는 RAG의 retrieval 단계에서는 qeury와 유사한 chunk를 찾는 것이 매우 중요하다. 검색된 chunk가 모델에 참고 문서로 입력되기 때문에 유사도 검색 결과가 최종 결과에 큰 영향을 미친다.\",\n",
    "    \"Semantic Search는 text를 모델을 통해 embedding시킨 후 embedding vector들의 거리를 통해 유사도를 검색하는 방법이다.\",\n",
    "    \"BM25는 TF-IDF 알고리즘을 기반으로 한 키워드 검색 알고리즘이다. 매우 오래된 알고리즘이고, 이를 기반으로 한 여러 variation들이 제안되었지만 keyword search에 있어서 아직까지는 클래식이 베스트이다.\",\n",
    "    \"사용자의 질문이 명확하지 않은 경우, similarity search 과정에서 오류가 발생할 수 있다.\"\n",
    "]\n",
    "query = \"Semantic Search 방법에 대해 알려줘\"\n",
    "\n",
    "def semantic_search(corpus,query):\n",
    "    document_embeddings = embedd_model.encode(corpus)\n",
    "    embedding_shape=document_embeddings.shape\n",
    "    \n",
    "    query_embedding = embedd_model.encode(query)\n",
    "    \n",
    "    scores = cos_sim(document_embeddings, query_embedding)\n",
    "    scores=sum(scores.tolist(),[])\n",
    "    \n",
    "    res=result = list(map(lambda score, sentence: {\"score\": score, \"sentence\": sentence}, scores, corpus))\n",
    "    \n",
    "    return res\n",
    "    \n",
    "semantic_search(corpus,query)"
   ]
  },
  {
   "cell_type": "code",
   "execution_count": null,
   "id": "2973a1db-2b31-4653-9298-037bac6e849d",
   "metadata": {},
   "outputs": [],
   "source": []
  }
 ],
 "metadata": {
  "kernelspec": {
   "display_name": "Python 3 (ipykernel)",
   "language": "python",
   "name": "python3"
  },
  "language_info": {
   "codemirror_mode": {
    "name": "ipython",
    "version": 3
   },
   "file_extension": ".py",
   "mimetype": "text/x-python",
   "name": "python",
   "nbconvert_exporter": "python",
   "pygments_lexer": "ipython3",
   "version": "3.10.12"
  }
 },
 "nbformat": 4,
 "nbformat_minor": 5
}
