{
    "cells": [
        {
            "cell_type": "code",
            "execution_count": 16,
            "id": "570c689f-892b-4e64-b21a-144d0c5a494b",
            "metadata": {
                "scrolled": true
            },
            "outputs": [],
            "source": [
                "from langchain_core.tools import tool\n",
                "from typing import Annotated\n",
                "from langchain_experimental.utilities import PythonREPL\n",
                "from langchain_community.tools.tavily_search import TavilySearchResults\n",
                "from langchain_openai import OpenAI\n",
                "from typing import TypedDict, Annotated, List, Union\n",
                "from langchain_core.agents import AgentAction, AgentFinish\n",
                "from langchain_core.messages import BaseMessage\n",
                "import operator\n",
                "from langchain_core.agents import AgentFinish\n",
                "from langgraph.prebuilt.tool_executor import ToolExecutor\n",
                "from langchain.agents import create_json_chat_agent\n",
                "from langchain_core.prompts import (\n",
                "     ChatPromptTemplate,\n",
                "     SystemMessagePromptTemplate,\n",
                "     PromptTemplate, \n",
                "     MessagesPlaceholder, \n",
                "     HumanMessagePromptTemplate )\n",
                "import json\n",
                "import os\n",
                "from typing import List, Union # typing: 코드에서 사용되는 데이터 유형을 정의하는 데 도움이 되는 Python의 내장 라이브러리\n",
                "from langgraph.graph import END, StateGraph\n",
                "from langchain_core.messages import (\n",
                "    AIMessage,\n",
                "    HumanMessage,\n",
                "    ChatMessage,\n",
                "    SystemMessage,\n",
                "    FunctionMessage,\n",
                "    ToolMessage,\n",
                ")\n",
                "from tavily import TavilyClient\n",
                "from langchain_anthropic import ChatAnthropic"
            ]
        },
        {
            "cell_type": "code",
            "execution_count": 8,
            "id": "c277b4fb-7c1c-49c1-9454-28607124674b",
            "metadata": {},
            "outputs": [],
            "source": [
                "TAVILY_API_KEY = \"\"\n",
                "Openai_API_KEY = \"\"\n",
                "GROQ_API_KEY = \"\"\n",
                "coher_API_KEY = \"\"\n",
                "claude_api_key=\"\""
            ]
        },
        {
            "cell_type": "code",
            "execution_count": 26,
            "id": "a18dc3e1-6cb1-4aa2-99a4-68dd057c1a65",
            "metadata": {},
            "outputs": [],
            "source": [
                "class AgentState(TypedDict):\n",
                "   input: str\n",
                "   chat_history: list[BaseMessage]\n",
                "   agent_outcome: Union[AgentAction, AgentFinish, None]\n",
                "   intermediate_steps: Annotated[list[tuple[AgentAction, str]], operator.add]\n",
                "\n",
                "# search = TavilyClient(api_key=TAVILY_API_KEY)\n",
                "os.environ[\"TAVILY_API_KEY\"] = TAVILY_API_KEY\n",
                "search = TavilySearchResults(max_results=1)\n",
                "repl = PythonREPL()\n",
                "\n",
                "chat_model = ChatAnthropic(model=\"claude-3-5-sonnet-20240620\",api_key=claude_api_key)"
            ]
        },
        {
            "cell_type": "code",
            "execution_count": 27,
            "id": "dbb37754-2679-4452-875f-27657dbffd35",
            "metadata": {},
            "outputs": [],
            "source": [
                "def extract_json(text):\n",
                "    try:\n",
                "        # Find the index where the JSON part starts (after \"AI:\")\n",
                "        start_index = text.find(\"AI:\")\n",
                "        if start_index != -1:\n",
                "            # Extract the JSON part of the text\n",
                "            json_str = text[start_index + len(\"AI:\"):].strip()\n",
                "            # Parse the JSON object\n",
                "            json_obj = json.loads(json_str)\n",
                "            return json_obj\n",
                "        else:\n",
                "            # If \"AI:\" prefix not found, return None\n",
                "            return None\n",
                "    except json.JSONDecodeError as e:\n",
                "        # Handle JSON decoding errors\n",
                "        print(f\"Error decoding JSON: {e}\")\n",
                "        return None\n",
                "    except Exception as e:\n",
                "        # Handle other unexpected errors\n",
                "        print(f\"Unexpected error: {e}\")\n",
                "        return None"
            ]
        },
        {
            "cell_type": "code",
            "execution_count": 28,
            "id": "b59bfb96-8fb0-46a8-9f6c-5f7c11cc75db",
            "metadata": {},
            "outputs": [],
            "source": [
                "@tool\n",
                "# 정상 파이썬 작동 코드인지 확인 \n",
                "def python_repl(\n",
                "    code: Annotated[str, \"The python code to execute to generate your chart.\"]\n",
                "):\n",
                "    \"\"\"Use this to execute python code. If you want to see the output of a value,\n",
                "    you should print it out with `print(...)`. This is visible to the user.\"\"\"\n",
                "    try:\n",
                "        result = repl.run(code)\n",
                "    except BaseException as e:\n",
                "        return f\"Failed to execute. Error: {repr(e)}\"\n",
                "    return f\"Succesfully executed:\\n```python\\n{code}\\n```\\nStdout: {result}\"\n",
                "\n",
                "tools = [search, python_repl]"
            ]
        },
        {
            "cell_type": "code",
            "execution_count": 29,
            "id": "aba1ecd4-a4d3-48a4-b2d3-dc99e8e0554f",
            "metadata": {},
            "outputs": [
                {
                    "name": "stderr",
                    "output_type": "stream",
                    "text": [
                        "/tmp/ipykernel_144/1807120295.py:58: LangGraphDeprecationWarning: ToolExecutor is deprecated as of version 0.2.0 and will be removed in 0.3.0. Use langgraph.prebuilt.ToolNode instead.\n",
                        "  tool_executor = ToolExecutor(tools)\n"
                    ]
                }
            ],
            "source": [
                "prompt2 = ChatPromptTemplate(\n",
                "    input_variables=[\"agent_scratchpad\", \"input\", \"tool_names\", \"tools\"],\n",
                "    input_types={\n",
                "        \"chat_history\": List[\n",
                "            Union[\n",
                "                AIMessage,\n",
                "                HumanMessage,\n",
                "                ChatMessage,\n",
                "                SystemMessage,\n",
                "                FunctionMessage,\n",
                "                ToolMessage,\n",
                "            ]\n",
                "        ],\n",
                "        \"agent_scratchpad\": List[\n",
                "            Union[\n",
                "                AIMessage,\n",
                "                HumanMessage,\n",
                "                ChatMessage,\n",
                "                SystemMessage,\n",
                "                FunctionMessage,\n",
                "                ToolMessage,\n",
                "            ]\n",
                "        ],\n",
                "    },\n",
                "    messages=[\n",
                "        SystemMessagePromptTemplate(\n",
                "            prompt=PromptTemplate(\n",
                "                input_variables=[],\n",
                "                template=\"\"\"Assistant is a large language model trained by OpenAI.\\n\\nAssistant is designed to be able to assist with a wide range \n",
                "                         of tasks, from answering simple questions to providing in-depth explanations and discussions on a wide range of topics. \n",
                "                         As a language model, Assistant is able to generate human-like text based on the input it receives, allowing it to engage \n",
                "                         in natural-sounding conversations and provide responses that are coherent and relevant to the topic at hand.\n",
                "                         \\n\\nAssistant is constantly learning and improving, and its capabilities are constantly evolving. It is able to process \n",
                "                         and understand large amounts of text, and can use this knowledge to provide accurate and informative responses to a wide \n",
                "                         range of questions. Additionally, Assistant is able to generate its own text based on the input it receives, allowing it \n",
                "                         to engage in discussions and provide explanations and descriptions on a wide range of topics.\n",
                "                         \\n\\nOverall, Assistant is a powerful system that can help with a wide range of tasks and provide valuable insights and \n",
                "                         information on a wide range of topics. Whether you need help with a specific question or just want to have a conversation\n",
                "                         about a particular topic, Assistant is here to assist.\"\"\",\n",
                "            )\n",
                "        ),\n",
                "        MessagesPlaceholder(variable_name=\"chat_history\", optional=True),\n",
                "        HumanMessagePromptTemplate(\n",
                "            prompt=PromptTemplate(\n",
                "                input_variables=[\"input\", \"tool_names\", \"tools\"],\n",
                "                template=\"\"\"TOOLS\\n------\\nAssistant can ask the user to use tools to look up information that may be helpful in answering the users original question. \n",
                "The tools the human can use are:\\n\\n{tools}\\n\\nRESPONSE FORMAT INSTRUCTIONS\\n----------------------------\\n\\nWhen responding to me, please output a response in one of two formats:\\n\\n**Option 1:**\\nUse this if you want the human to use a tool.\\nMarkdown code snippet formatted in the following schema:\\n\\n```json\\n{{\\n    \"action\": string, \\\\ The action to take. Must be one of {tool_names}\\n    \"action_input\": string \\\\ The input to the action\\n}}\\n```\\n\\n**Option #2:**\\nUse this if you can respond directly to the human after tool execution. Markdown code snippet formatted in the following schema:\\n\\n```json\\n{{\\n    \"action\": \"Final Answer\",\\n    \"action_input\": string \\\\ You should put what you want to return to use here\\n}}\\n```\\n\\nUSER\\'S INPUT\\n--------------------\\nHere is the user\\'s input (remember to respond with a markdown code snippet of a json blob with a single action, and NOTHING else):\\n\\n{input}\n",
                "\"\"\",\n",
                "\n",
                "            )\n",
                "        ),\n",
                "        MessagesPlaceholder(variable_name=\"agent_scratchpad\"),\n",
                "    ],\n",
                ")\n",
                "\n",
                "agent_runnable = create_json_chat_agent(chat_model, tools, prompt2)\n",
                "\n",
                "tool_executor = ToolExecutor(tools)"
            ]
        },
        {
            "cell_type": "code",
            "execution_count": 30,
            "id": "b086dfe8-a347-4fda-a67b-b46dcb07f4d8",
            "metadata": {},
            "outputs": [],
            "source": [
                "def run_agent(data):\n",
                "    agent_outcome = agent_runnable.invoke(data)\n",
                "    return {\"agent_outcome\": agent_outcome}\n",
                "\n",
                "def execute_tools(data):\n",
                "    agent_action = data['agent_outcome']\n",
                "    tool = agent_action.tool\n",
                "    tool_input = agent_action.tool_input\n",
                "\n",
                "    # Human in the Loop: Confirm tool execution with the user\n",
                "    response = input(f\"[y/n] continue with: {tool} with {tool_input}?\")\n",
                "    if response == \"n\":\n",
                "        raise ValueError\n",
                "\n",
                "    output = tool_executor.invoke(agent_action)\n",
                "    data[\"intermediate_steps\"].append((agent_action, str(output)))\n",
                "    return data\n",
                "\n",
                "# Define logic to determine which edge to follow in conditional branching\n",
                "def should_continue(data):\n",
                "    if isinstance(data['agent_outcome'], AgentFinish):\n",
                "        return \"end\"\n",
                "    else:\n",
                "        return \"continue\""
            ]
        },
        {
            "cell_type": "code",
            "execution_count": 31,
            "id": "b04027fe-87d7-426b-9b4c-e1281dc0cf97",
            "metadata": {},
            "outputs": [
                {
                    "name": "stdin",
                    "output_type": "stream",
                    "text": [
                        "[y/n] continue with: tavily_search_results_json with current weather in Taiwan? ㅛ\n"
                    ]
                },
                {
                    "name": "stdout",
                    "output_type": "stream",
                    "text": [
                        "Based on the latest weather information I found, the current weather in Taiwan is partly cloudy with a temperature of 34.3°C (93.7°F). The humidity is at 67%, and there's a westerly wind blowing at 16.9 km/h (10.5 mph). It feels even warmer though, with a 'feels like' temperature of 41.4°C (106.5°F) due to the humidity. The UV index is high at 8.0, so sun protection would be advisable if you're going outside. There's no precipitation expected at the moment. This information is current as of August 22, 2024, at 17:00 local time in Taiwan.\n"
                    ]
                }
            ],
            "source": [
                "# Define a new graph\n",
                "workflow = StateGraph(AgentState)\n",
                "\n",
                "# Define two nodes for looping\n",
                "workflow.add_node(\"agent\", run_agent)\n",
                "workflow.add_node(\"action\", execute_tools)\n",
                "\n",
                "# Set entry point\n",
                "workflow.set_entry_point(\"agent\")\n",
                "\n",
                "# Add conditional edges\n",
                "workflow.add_conditional_edges(\n",
                "    \"agent\",\n",
                "    should_continue,\n",
                "    {\n",
                "        \"continue\": \"action\",\n",
                "        \"end\": END,\n",
                "    },\n",
                ")\n",
                "\n",
                "workflow.add_edge(\"action\", \"agent\")\n",
                "\n",
                "app = workflow.compile()\n",
                "\n",
                "inputs = {\"input\": \"what is the weather in taiwan\", \"chat_history\": []}\n",
                "result = app.invoke(inputs)\n",
                "\n",
                "print(result[\"agent_outcome\"].return_values[\"output\"])"
            ]
        },
        {
            "cell_type": "code",
            "execution_count": 33,
            "id": "272ec12a-558d-4805-b289-a66ee2e59fa2",
            "metadata": {},
            "outputs": [
                {
                    "data": {
                        "image/jpeg": "[encoded data removed]",
                        "text/plain": [
                            "<IPython.core.display.Image object>"
                        ]
                    },
                    "metadata": {},
                    "output_type": "display_data"
                }
            ],
            "source": [
                "from IPython.display import Image, display\n",
                "from langchain_core.runnables.graph import CurveStyle, MermaidDrawMethod\n",
                "\n",
                "display(\n",
                "    Image(\n",
                "        app.get_graph().draw_mermaid_png(\n",
                "            draw_method=MermaidDrawMethod.API,\n",
                "        )\n",
                "    )\n",
                ")"
            ]
        },
        {
            "cell_type": "code",
            "execution_count": null,
            "id": "06c80762-28c3-4f10-b6eb-72fc1a6184ff",
            "metadata": {},
            "outputs": [],
            "source": []
        }
    ],
    "metadata": {
        "kernelspec": {
            "display_name": "Python 3 (ipykernel)",
            "language": "python",
            "name": "python3"
        },
        "language_info": {
            "codemirror_mode": {
                "name": "ipython",
                "version": 3
            },
            "file_extension": ".py",
            "mimetype": "text/x-python",
            "name": "python",
            "nbconvert_exporter": "python",
            "pygments_lexer": "ipython3",
            "version": "3.10.12"
        }
    },
    "nbformat": 4,
    "nbformat_minor": 5
}