{
 "cells": [
  {
   "cell_type": "code",
   "execution_count": 1,
   "id": "93e94b90-20cb-4c63-8773-50fc8f1495ce",
   "metadata": {},
   "outputs": [
    {
     "name": "stderr",
     "output_type": "stream",
     "text": [
      "/usr/local/lib/python3.10/dist-packages/weaviate/warnings.py:162: DeprecationWarning: Dep016: Python client v3 `weaviate.Client(...)` connections and methods are deprecated. Update\n",
      "            your code to use Python client v4 `weaviate.WeaviateClient` connections and methods.\n",
      "\n",
      "            For Python Client v4 usage, see: https://weaviate.io/developers/weaviate/client-libraries/python\n",
      "            For code migration, see: https://weaviate.io/developers/weaviate/client-libraries/python/v3_v4_migration\n",
      "            \n",
      "  warnings.warn(\n"
     ]
    }
   ],
   "source": [
    "import weaviate\n",
    "client = weaviate.Client(\n",
    "    url=\"http://192.168.2.186:8080\"\n",
    ")"
   ]
  },
  {
   "cell_type": "code",
   "execution_count": 2,
   "id": "efba665f-9630-4715-ac74-fa64c70379d5",
   "metadata": {},
   "outputs": [],
   "source": [
    "def db_class_check():\n",
    "    global client\n",
    "    print(\"--- DB class check ---\")\n",
    "    db_classes=list(map(lambda x : x[\"class\"].lower(), client.schema.get()[\"classes\"]))\n",
    "    return db_classes"
   ]
  },
  {
   "cell_type": "code",
   "execution_count": 8,
   "id": "214e02b8-53b0-4960-926e-9d0212988094",
   "metadata": {},
   "outputs": [
    {
     "name": "stdout",
     "output_type": "stream",
     "text": [
      "--- DB class check ---\n"
     ]
    },
    {
     "data": {
      "text/plain": [
       "['law']"
      ]
     },
     "execution_count": 8,
     "metadata": {},
     "output_type": "execute_result"
    }
   ],
   "source": [
    "db_class_check()"
   ]
  },
  {
   "cell_type": "code",
   "execution_count": 9,
   "id": "9df05094-2365-4c03-b606-0cbecf521e3f",
   "metadata": {},
   "outputs": [],
   "source": [
    "property_list = list(map(lambda x: x[\"name\"], client.schema.get(\"b_with_title\")['properties']))\n",
    "result = client.query.get(\"b_with_title\", property_list).do()"
   ]
  },
  {
   "cell_type": "code",
   "execution_count": 5,
   "id": "ee4d9ff0-a258-441a-94bc-14cea0e1788a",
   "metadata": {},
   "outputs": [
    {
     "data": {
      "text/plain": [
       "['text', 'source_title', 'source']"
      ]
     },
     "execution_count": 5,
     "metadata": {},
     "output_type": "execute_result"
    }
   ],
   "source": [
    "property_list"
   ]
  },
  {
   "cell_type": "code",
   "execution_count": 7,
   "id": "9727af25-2428-4fb7-b3fd-745d6128095b",
   "metadata": {
    "scrolled": true
   },
   "outputs": [],
   "source": [
    "client.schema.delete_class(\"b_with_title\")"
   ]
  },
  {
   "cell_type": "code",
   "execution_count": 12,
   "id": "5e3d3312-3ef2-42f6-99cf-673c67c8751e",
   "metadata": {
    "scrolled": true
   },
   "outputs": [],
   "source": [
    "result\n",
    "weaviate_class=\"B_with_title\"\n",
    "source=[{\"source_title\":r[\"source_title\"],\"source\":r[\"source\"]} for r in result[\"data\"][\"Get\"][weaviate_class]]"
   ]
  },
  {
   "cell_type": "code",
   "execution_count": 13,
   "id": "c21fabe0-1752-4b8f-8a54-e1bf82c63abe",
   "metadata": {
    "scrolled": true
   },
   "outputs": [
    {
     "data": {
      "text/plain": [
       "[{'source_title': 'LLaMa 3.1\\n      01 Aug 2024',\n",
       "  'source': 'https://finddme.github.io/llm%20/%20multimodal/2024/08/01/llama3_1/'},\n",
       " {'source_title': 'What is Natural Language Processing(NLP)?\\n      30 Oct 2019',\n",
       "  'source': 'https://finddme.github.io/natural%20language%20processing/2019/10/30/NLP/'},\n",
       " {'source_title': 'Prompt-Based Learning 2 | P-tuniung: GPT Understands, Too\\n      21 Dec 2022',\n",
       "  'source': 'https://finddme.github.io/natural%20language%20processing/2022/12/21/Ptuning/'},\n",
       " {'source_title': 'Transformer | Attention Is All You Need\\n      19 Nov 2019',\n",
       "  'source': 'https://finddme.github.io/natural%20language%20processing/2019/11/19/Transformer/'},\n",
       " {'source_title': 'Prompt-Based Learning 2 | P-tuniung: GPT Understands, Too\\n      21 Dec 2022',\n",
       "  'source': 'https://finddme.github.io/natural%20language%20processing/2022/12/21/Ptuning/'},\n",
       " {'source_title': 'Transformer | Attention Is All You Need\\n      19 Nov 2019',\n",
       "  'source': 'https://finddme.github.io/natural%20language%20processing/2019/11/19/Transformer/'},\n",
       " {'source_title': 'Prompt-Based Learning 2 | P-tuniung: GPT Understands, Too\\n      21 Dec 2022',\n",
       "  'source': 'https://finddme.github.io/natural%20language%20processing/2022/12/21/Ptuning/'},\n",
       " {'source_title': 'Advanced RAG\\n      02 Jan 2024',\n",
       "  'source': 'https://finddme.github.io/dev%20log/2024/01/02/rag/'},\n",
       " {'source_title': 'Sequence to Sequence(Seq2Seq)\\n      11 Nov 2019',\n",
       "  'source': 'https://finddme.github.io/natural%20language%20processing/2019/11/11/Seq2Seq/'},\n",
       " {'source_title': 'RAG : Similarity search (Keyword Search, Semantic Search, Hybrid Search)\\n      04 Mar 2024',\n",
       "  'source': 'https://finddme.github.io/llm%20/%20multimodal/2024/03/04/similar_search/'},\n",
       " {'source_title': 'What Can Linguistics and Deep Learning Contribute to Each Other? (Linzen et al. (2019))\\n      16 Jan 2021',\n",
       "  'source': 'https://finddme.github.io/natural%20language%20processing%20and%20linguistics/2021/01/16/TalLinzen2019/'},\n",
       " {'source_title': 'Word2vec | CBOW(Continuous Bag Of Words Model)\\n      05 Nov 2019',\n",
       "  'source': 'https://finddme.github.io/natural%20language%20processing/2019/11/05/CBOW(Continuous-Bag-Of-Words-Model)/'},\n",
       " {'source_title': 'Coreference Resolution | Speech and Language Processing(Daniel Jurafsky and James H. Martin, 2019)\\n      24 Apr 2021',\n",
       "  'source': 'https://finddme.github.io/natural%20language%20processing%20and%20linguistics/2021/04/24/CoreferenceResolution/'},\n",
       " {'source_title': 'Word embedding(Distributed Representation)\\n      03 Nov 2019',\n",
       "  'source': 'https://finddme.github.io/natural%20language%20processing/2019/11/03/Word-embedding(Distributed-Representation)/'},\n",
       " {'source_title': 'Coreference Resolution | Speech and Language Processing(Daniel Jurafsky and James H. Martin, 2019)\\n      24 Apr 2021',\n",
       "  'source': 'https://finddme.github.io/natural%20language%20processing%20and%20linguistics/2021/04/24/CoreferenceResolution/'},\n",
       " {'source_title': 'What does BERT learn about the structure of language?(Jawahar.G(2019))\\n      01 Apr 2021',\n",
       "  'source': 'https://finddme.github.io/natural%20language%20processing%20and%20linguistics/2021/04/01/Jawahar/'},\n",
       " {'source_title': 'Word2vec | Skip-gram\\n      06 Nov 2019',\n",
       "  'source': 'https://finddme.github.io/natural%20language%20processing/2019/11/06/Skipgram/'},\n",
       " {'source_title': 'RAG : Similarity search (Keyword Search, Semantic Search, Hybrid Search)\\n      04 Mar 2024',\n",
       "  'source': 'https://finddme.github.io/llm%20/%20multimodal/2024/03/04/similar_search/'},\n",
       " {'source_title': 'What Can Linguistics and Deep Learning Contribute to Each Other? (Linzen et al. (2019))\\n      16 Jan 2021',\n",
       "  'source': 'https://finddme.github.io/natural%20language%20processing%20and%20linguistics/2021/01/16/TalLinzen2019/'},\n",
       " {'source_title': 'Prompt-Based Learning 3 | P-Tuning v2: Prompt Tuning Can Be Comparable to Fine-tuning Universally Across Scales and Tasks\\n      13 Jan 2023',\n",
       "  'source': 'https://finddme.github.io/natural%20language%20processing/2023/01/13/Ptuning2/'},\n",
       " {'source_title': 'What is Natural Language Processing(NLP)?\\n      30 Oct 2019',\n",
       "  'source': 'https://finddme.github.io/natural%20language%20processing/2019/10/30/NLP/'},\n",
       " {'source_title': 'BERT | Pre-training of Deep Bidirectional Transformers for Language Understanding\\n      22 Nov 2019',\n",
       "  'source': 'https://finddme.github.io/natural%20language%20processing/2019/11/22/Bert/'},\n",
       " {'source_title': 'RAG(Retrieval-Augmented Generation)\\n      21 Feb 2024',\n",
       "  'source': 'https://finddme.github.io/llm%20/%20multimodal/2024/02/21/RAG/'},\n",
       " {'source_title': 'Coreference Resolution | Speech and Language Processing(Daniel Jurafsky and James H. Martin, 2019)\\n      24 Apr 2021',\n",
       "  'source': 'https://finddme.github.io/natural%20language%20processing%20and%20linguistics/2021/04/24/CoreferenceResolution/'},\n",
       " {'source_title': 'BERT | Pre-training of Deep Bidirectional Transformers for Language Understanding\\n      22 Nov 2019',\n",
       "  'source': 'https://finddme.github.io/natural%20language%20processing/2019/11/22/Bert/'},\n",
       " {'source_title': 'Tokenization;with code\\n      31 Oct 2019',\n",
       "  'source': 'https://finddme.github.io/natural%20language%20processing/2019/10/31/Tokenization/'},\n",
       " {'source_title': 'BERT | Pre-training of Deep Bidirectional Transformers for Language Understanding\\n      22 Nov 2019',\n",
       "  'source': 'https://finddme.github.io/natural%20language%20processing/2019/11/22/Bert/'},\n",
       " {'source_title': 'Assessing the ability of Transformer-based Neural Models to represent structurally unbounded dependencies(Da Costa.J et al.(2020))\\n      04 Apr 2021',\n",
       "  'source': 'https://finddme.github.io/natural%20language%20processing%20and%20linguistics/2021/04/04/DaCosta/'},\n",
       " {'source_title': 'RAG : Similarity search (Keyword Search, Semantic Search, Hybrid Search)\\n      04 Mar 2024',\n",
       "  'source': 'https://finddme.github.io/llm%20/%20multimodal/2024/03/04/similar_search/'},\n",
       " {'source_title': 'What Can Linguistics and Deep Learning Contribute to Each Other? (Linzen et al. (2019))\\n      16 Jan 2021',\n",
       "  'source': 'https://finddme.github.io/natural%20language%20processing%20and%20linguistics/2021/01/16/TalLinzen2019/'},\n",
       " {'source_title': 'PEFT : Parameter-Efficient Finetuning methods \\n      04 Oct 2023',\n",
       "  'source': 'https://finddme.github.io/llm%20/%20multimodal/2023/10/04/lora/'},\n",
       " {'source_title': 'What Can Linguistics and Deep Learning Contribute to Each Other? (Linzen et al. (2019))\\n      16 Jan 2021',\n",
       "  'source': 'https://finddme.github.io/natural%20language%20processing%20and%20linguistics/2021/01/16/TalLinzen2019/'},\n",
       " {'source_title': 'Transformer | Attention Is All You Need\\n      19 Nov 2019',\n",
       "  'source': 'https://finddme.github.io/natural%20language%20processing/2019/11/19/Transformer/'},\n",
       " {'source_title': 'Multimodal Learning with Transformers : A Survey\\n      28 Sep 2023',\n",
       "  'source': 'https://finddme.github.io/llm%20/%20multimodal/2023/09/28/Multimodal/'},\n",
       " {'source_title': 'LLM Tuning / Merge\\n      31 Mar 2023',\n",
       "  'source': 'https://finddme.github.io/dev%20log/2023/03/31/llm_tuning_merge/'},\n",
       " {'source_title': 'About Fine-tuning\\n      02 Oct 2023',\n",
       "  'source': 'https://finddme.github.io/llm%20/%20multimodal/2023/10/02/finetuning/'},\n",
       " {'source_title': 'RAG(Retrieval-Augmented Generation)\\n      21 Feb 2024',\n",
       "  'source': 'https://finddme.github.io/llm%20/%20multimodal/2024/02/21/RAG/'},\n",
       " {'source_title': 'LLaVA : Visual Instruction Tuning\\n      11 May 2024',\n",
       "  'source': 'https://finddme.github.io/llm%20/%20multimodal/2024/05/11/llava/'},\n",
       " {'source_title': 'Coreference Resolution | Speech and Language Processing(Daniel Jurafsky and James H. Martin, 2019)\\n      24 Apr 2021',\n",
       "  'source': 'https://finddme.github.io/natural%20language%20processing%20and%20linguistics/2021/04/24/CoreferenceResolution/'},\n",
       " {'source_title': 'VLM : Models Summary(unfinished post)\\n      30 May 2024',\n",
       "  'source': 'https://finddme.github.io/llm%20/%20multimodal/2024/05/30/vlm_models/'},\n",
       " {'source_title': 'What does BERT learn about the structure of language?(Jawahar.G(2019))\\n      01 Apr 2021',\n",
       "  'source': 'https://finddme.github.io/natural%20language%20processing%20and%20linguistics/2021/04/01/Jawahar/'},\n",
       " {'source_title': 'Linguistic Knowledge and Transferability of Contextual Representations(Liu(2019))\\n      17 Jan 2021',\n",
       "  'source': 'https://finddme.github.io/natural%20language%20processing%20and%20linguistics/2021/01/17/Liu2019/'},\n",
       " {'source_title': 'Transformer | Attention Is All You Need\\n      19 Nov 2019',\n",
       "  'source': 'https://finddme.github.io/natural%20language%20processing/2019/11/19/Transformer/'},\n",
       " {'source_title': 'FastText | Enriching Word Vectors with Subword Information\\n      07 Nov 2019',\n",
       "  'source': 'https://finddme.github.io/natural%20language%20processing/2019/11/07/FastText/'},\n",
       " {'source_title': 'DocLLM: A layout-aware generative language model for multimodal document understanding\\n      04 Jun 2024',\n",
       "  'source': 'https://finddme.github.io/llm%20/%20multimodal/2024/06/04/docllm/'},\n",
       " {'source_title': 'Contextual word representation\\n      30 Mar 2021',\n",
       "  'source': 'https://finddme.github.io/natural%20language%20processing%20and%20linguistics/2021/03/30/Johnblog/'},\n",
       " {'source_title': 'FastText | Enriching Word Vectors with Subword Information\\n      07 Nov 2019',\n",
       "  'source': 'https://finddme.github.io/natural%20language%20processing/2019/11/07/FastText/'},\n",
       " {'source_title': 'A Structural Probe for Finding Syntax in Word Representations(Hewitt.J(2019))\\n      07 Mar 2021',\n",
       "  'source': 'https://finddme.github.io/natural%20language%20processing%20and%20linguistics/2021/03/07/John2019/'},\n",
       " {'source_title': 'Investigating BERT’s Knowledge of Language:Five Analysis Methods with NPIs(Warstadt et al.(2019))\\n      07 Apr 2021',\n",
       "  'source': 'https://finddme.github.io/natural%20language%20processing%20and%20linguistics/2021/04/07/Warstadt/'},\n",
       " {'source_title': 'Fine-tuning variations : RLHF/PPO, DPO, ORPO\\n      04 Apr 2024',\n",
       "  'source': 'https://finddme.github.io/llm%20/%20multimodal/2024/04/04/finetuning_variations/'},\n",
       " {'source_title': 'What Can Linguistics and Deep Learning Contribute to Each Other? (Linzen et al. (2019))\\n      16 Jan 2021',\n",
       "  'source': 'https://finddme.github.io/natural%20language%20processing%20and%20linguistics/2021/01/16/TalLinzen2019/'},\n",
       " {'source_title': 'Word2vec | CBOW(Continuous Bag Of Words Model)\\n      05 Nov 2019',\n",
       "  'source': 'https://finddme.github.io/natural%20language%20processing/2019/11/05/CBOW(Continuous-Bag-Of-Words-Model)/'},\n",
       " {'source_title': 'Prompt-Based Learning 2 | P-tuniung: GPT Understands, Too\\n      21 Dec 2022',\n",
       "  'source': 'https://finddme.github.io/natural%20language%20processing/2022/12/21/Ptuning/'},\n",
       " {'source_title': 'RAG : Similarity search (Keyword Search, Semantic Search, Hybrid Search)\\n      04 Mar 2024',\n",
       "  'source': 'https://finddme.github.io/llm%20/%20multimodal/2024/03/04/similar_search/'},\n",
       " {'source_title': 'Word2vec | CBOW(Continuous Bag Of Words Model)\\n      05 Nov 2019',\n",
       "  'source': 'https://finddme.github.io/natural%20language%20processing/2019/11/05/CBOW(Continuous-Bag-Of-Words-Model)/'},\n",
       " {'source_title': 'Attention in sequence to sequence\\n      12 Nov 2019',\n",
       "  'source': 'https://finddme.github.io/natural%20language%20processing/2019/11/12/Attention/'},\n",
       " {'source_title': 'What Can Linguistics and Deep Learning Contribute to Each Other? (Linzen et al. (2019))\\n      16 Jan 2021',\n",
       "  'source': 'https://finddme.github.io/natural%20language%20processing%20and%20linguistics/2021/01/16/TalLinzen2019/'},\n",
       " {'source_title': 'Sequence to Sequence(Seq2Seq)\\n      11 Nov 2019',\n",
       "  'source': 'https://finddme.github.io/natural%20language%20processing/2019/11/11/Seq2Seq/'},\n",
       " {'source_title': 'Coreference Resolution | Speech and Language Processing(Daniel Jurafsky and James H. Martin, 2019)\\n      24 Apr 2021',\n",
       "  'source': 'https://finddme.github.io/natural%20language%20processing%20and%20linguistics/2021/04/24/CoreferenceResolution/'},\n",
       " {'source_title': 'Assessing the ability of Transformer-based Neural Models to represent structurally unbounded dependencies(Da Costa.J et al.(2020))\\n      04 Apr 2021',\n",
       "  'source': 'https://finddme.github.io/natural%20language%20processing%20and%20linguistics/2021/04/04/DaCosta/'},\n",
       " {'source_title': 'Investigating BERT’s Knowledge of Language:Five Analysis Methods with NPIs(Warstadt et al.(2019))\\n      07 Apr 2021',\n",
       "  'source': 'https://finddme.github.io/natural%20language%20processing%20and%20linguistics/2021/04/07/Warstadt/'},\n",
       " {'source_title': 'About Fine-tuning\\n      02 Oct 2023',\n",
       "  'source': 'https://finddme.github.io/llm%20/%20multimodal/2023/10/02/finetuning/'},\n",
       " {'source_title': 'Word2Vec(Sentimental Categorize);with code\\n      06 Nov 2019',\n",
       "  'source': 'https://finddme.github.io/natural%20language%20processing/2019/11/06/SentimentalCategorize/'},\n",
       " {'source_title': 'RAG(Retrieval-Augmented Generation)\\n      21 Feb 2024',\n",
       "  'source': 'https://finddme.github.io/llm%20/%20multimodal/2024/02/21/RAG/'},\n",
       " {'source_title': 'LLaVA : Visual Instruction Tuning\\n      11 May 2024',\n",
       "  'source': 'https://finddme.github.io/llm%20/%20multimodal/2024/05/11/llava/'},\n",
       " {'source_title': 'LLaVA : Visual Instruction Tuning\\n      11 May 2024',\n",
       "  'source': 'https://finddme.github.io/llm%20/%20multimodal/2024/05/11/llava/'},\n",
       " {'source_title': 'DAPT-TAPT | Don’t Stop Pretraining: Adapt Language Models to Domains and Tasks\\n      29 Nov 2022',\n",
       "  'source': 'https://finddme.github.io/natural%20language%20processing/2022/11/29/DAPT/'},\n",
       " {'source_title': '한국어 PDF Parser / PDF OCR (layout detection + text extraction)\\n      02 Feb 2024',\n",
       "  'source': 'https://finddme.github.io/dev%20log/2024/02/02/pdf/'},\n",
       " {'source_title': 'Prompt-Based Learning 3 | P-Tuning v2: Prompt Tuning Can Be Comparable to Fine-tuning Universally Across Scales and Tasks\\n      13 Jan 2023',\n",
       "  'source': 'https://finddme.github.io/natural%20language%20processing/2023/01/13/Ptuning2/'},\n",
       " {'source_title': 'Assessing the ability of Transformer-based Neural Models to represent structurally unbounded dependencies(Da Costa.J et al.(2020))\\n      04 Apr 2021',\n",
       "  'source': 'https://finddme.github.io/natural%20language%20processing%20and%20linguistics/2021/04/04/DaCosta/'},\n",
       " {'source_title': 'Word2Vec(Sentimental Categorize);with code\\n      06 Nov 2019',\n",
       "  'source': 'https://finddme.github.io/natural%20language%20processing/2019/11/06/SentimentalCategorize/'},\n",
       " {'source_title': 'Sequence to Sequence(Seq2Seq)\\n      11 Nov 2019',\n",
       "  'source': 'https://finddme.github.io/natural%20language%20processing/2019/11/11/Seq2Seq/'},\n",
       " {'source_title': 'A Structural Probe for Finding Syntax in Word Representations(Hewitt.J(2019))\\n      07 Mar 2021',\n",
       "  'source': 'https://finddme.github.io/natural%20language%20processing%20and%20linguistics/2021/03/07/John2019/'},\n",
       " {'source_title': 'Transformer | Attention Is All You Need\\n      19 Nov 2019',\n",
       "  'source': 'https://finddme.github.io/natural%20language%20processing/2019/11/19/Transformer/'},\n",
       " {'source_title': 'RAG(Retrieval-Augmented Generation)\\n      21 Feb 2024',\n",
       "  'source': 'https://finddme.github.io/llm%20/%20multimodal/2024/02/21/RAG/'},\n",
       " {'source_title': 'Prompt-Based Learning 2 | P-tuniung: GPT Understands, Too\\n      21 Dec 2022',\n",
       "  'source': 'https://finddme.github.io/natural%20language%20processing/2022/12/21/Ptuning/'},\n",
       " {'source_title': 'About Fine-tuning\\n      02 Oct 2023',\n",
       "  'source': 'https://finddme.github.io/llm%20/%20multimodal/2023/10/02/finetuning/'},\n",
       " {'source_title': 'A Structural Probe for Finding Syntax in Word Representations(Hewitt.J(2019))\\n      07 Mar 2021',\n",
       "  'source': 'https://finddme.github.io/natural%20language%20processing%20and%20linguistics/2021/03/07/John2019/'},\n",
       " {'source_title': 'Multimodal Learning with Transformers : A Survey\\n      28 Sep 2023',\n",
       "  'source': 'https://finddme.github.io/llm%20/%20multimodal/2023/09/28/Multimodal/'},\n",
       " {'source_title': 'Contextual word representation\\n      30 Mar 2021',\n",
       "  'source': 'https://finddme.github.io/natural%20language%20processing%20and%20linguistics/2021/03/30/Johnblog/'},\n",
       " {'source_title': 'DAPT-TAPT | Don’t Stop Pretraining: Adapt Language Models to Domains and Tasks\\n      29 Nov 2022',\n",
       "  'source': 'https://finddme.github.io/natural%20language%20processing/2022/11/29/DAPT/'},\n",
       " {'source_title': 'Merge algorithms\\n      20 Jun 2024',\n",
       "  'source': 'https://finddme.github.io/llm%20/%20multimodal/2024/06/20/merge/'},\n",
       " {'source_title': 'RAG(Retrieval-Augmented Generation)\\n      21 Feb 2024',\n",
       "  'source': 'https://finddme.github.io/llm%20/%20multimodal/2024/02/21/RAG/'},\n",
       " {'source_title': 'What does BERT learn about the structure of language?(Jawahar.G(2019))\\n      01 Apr 2021',\n",
       "  'source': 'https://finddme.github.io/natural%20language%20processing%20and%20linguistics/2021/04/01/Jawahar/'},\n",
       " {'source_title': 'Sequence to Sequence(Seq2Seq)\\n      11 Nov 2019',\n",
       "  'source': 'https://finddme.github.io/natural%20language%20processing/2019/11/11/Seq2Seq/'},\n",
       " {'source_title': 'MoE, MoA 믹스는 다가와 아 오에이\\n      22 Jun 2024',\n",
       "  'source': 'https://finddme.github.io/llm%20/%20multimodal/2024/06/22/merge2/'},\n",
       " {'source_title': 'What Can Linguistics and Deep Learning Contribute to Each Other? (Linzen et al. (2019))\\n      16 Jan 2021',\n",
       "  'source': 'https://finddme.github.io/natural%20language%20processing%20and%20linguistics/2021/01/16/TalLinzen2019/'},\n",
       " {'source_title': 'FastText | Enriching Word Vectors with Subword Information\\n      07 Nov 2019',\n",
       "  'source': 'https://finddme.github.io/natural%20language%20processing/2019/11/07/FastText/'},\n",
       " {'source_title': 'Language Models Summary(unfinished post)\\n      30 Nov 2022',\n",
       "  'source': 'https://finddme.github.io/natural%20language%20processing/2022/11/30/LMsummary/'},\n",
       " {'source_title': 'Transformer | Attention Is All You Need\\n      19 Nov 2019',\n",
       "  'source': 'https://finddme.github.io/natural%20language%20processing/2019/11/19/Transformer/'},\n",
       " {'source_title': 'A Structural Probe for Finding Syntax in Word Representations(Hewitt.J(2019))\\n      07 Mar 2021',\n",
       "  'source': 'https://finddme.github.io/natural%20language%20processing%20and%20linguistics/2021/03/07/John2019/'},\n",
       " {'source_title': 'LLM Tuning / Merge\\n      31 Mar 2023',\n",
       "  'source': 'https://finddme.github.io/dev%20log/2023/03/31/llm_tuning_merge/'},\n",
       " {'source_title': 'What does BERT learn about the structure of language?(Jawahar.G(2019))\\n      01 Apr 2021',\n",
       "  'source': 'https://finddme.github.io/natural%20language%20processing%20and%20linguistics/2021/04/01/Jawahar/'},\n",
       " {'source_title': 'PEFT : Parameter-Efficient Finetuning methods \\n      04 Oct 2023',\n",
       "  'source': 'https://finddme.github.io/llm%20/%20multimodal/2023/10/04/lora/'},\n",
       " {'source_title': 'Word2vec | Skip-gram\\n      06 Nov 2019',\n",
       "  'source': 'https://finddme.github.io/natural%20language%20processing/2019/11/06/Skipgram/'},\n",
       " {'source_title': 'DAPT-TAPT | Don’t Stop Pretraining: Adapt Language Models to Domains and Tasks\\n      29 Nov 2022',\n",
       "  'source': 'https://finddme.github.io/natural%20language%20processing/2022/11/29/DAPT/'},\n",
       " {'source_title': 'Coreference Resolution | Speech and Language Processing(Daniel Jurafsky and James H. Martin, 2019)\\n      24 Apr 2021',\n",
       "  'source': 'https://finddme.github.io/natural%20language%20processing%20and%20linguistics/2021/04/24/CoreferenceResolution/'},\n",
       " {'source_title': 'Self-RAG + CRAG : Query Router | Reranker | Relevant Grader | Hallucination Grader | Answer Grader\\n      01 Jul 2024',\n",
       "  'source': 'https://finddme.github.io/dev%20log/2024/07/01/self_rag/'},\n",
       " {'source_title': 'Multimodal Learning with Transformers : A Survey\\n      28 Sep 2023',\n",
       "  'source': 'https://finddme.github.io/llm%20/%20multimodal/2023/09/28/Multimodal/'},\n",
       " {'source_title': '한국어 PDF Parser / PDF OCR (layout detection + text extraction)\\n      02 Feb 2024',\n",
       "  'source': 'https://finddme.github.io/dev%20log/2024/02/02/pdf/'}]"
      ]
     },
     "execution_count": 13,
     "metadata": {},
     "output_type": "execute_result"
    }
   ],
   "source": [
    "source"
   ]
  },
  {
   "cell_type": "code",
   "execution_count": null,
   "id": "4276e73e-25f6-459e-b69d-924095e5ce21",
   "metadata": {},
   "outputs": [],
   "source": []
  }
 ],
 "metadata": {
  "kernelspec": {
   "display_name": "Python 3 (ipykernel)",
   "language": "python",
   "name": "python3"
  },
  "language_info": {
   "codemirror_mode": {
    "name": "ipython",
    "version": 3
   },
   "file_extension": ".py",
   "mimetype": "text/x-python",
   "name": "python",
   "nbconvert_exporter": "python",
   "pygments_lexer": "ipython3",
   "version": "3.10.12"
  }
 },
 "nbformat": 4,
 "nbformat_minor": 5
}
