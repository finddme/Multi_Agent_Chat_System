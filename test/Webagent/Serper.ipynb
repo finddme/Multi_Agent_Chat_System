{
 "cells": [
  {
   "cell_type": "code",
   "execution_count": 27,
   "id": "3ef389a5-bd22-4c16-b967-955adfac7718",
   "metadata": {
    "scrolled": true
   },
   "outputs": [
    {
     "name": "stdout",
     "output_type": "stream",
     "text": [
      "{'searchParameters': {'q': '2024년 한국 경제 성장률에 대해 알려줘', 'hl': 'ko', 'type': 'search', 'num': 6, 'engine': 'google'}, 'organic': [{'title': 'OECD, 2024년 한국 경제성장률 2.6%, 물가상승률 2.6% 전망', 'link': 'https://eiec.kdi.re.kr/policy/materialView.do?num=251108', 'snippet': \"- 세계경제 성장 흐름은 향후에도 지속될 것으로 전망하면서, 세계경제 성장률을 '24년 3.1%('24.2월 전망 대비 +0.2%p), '25년 3.2%(+0.2%p)로 예측하였음. - 물가상승률 ...\", 'attributes': {'누락된 검색어': '대해 알려줘'}, 'position': 1}, {'title': '[PDF] 2024년 한국 경제 전망(수정)', 'link': 'https://hri.co.kr/upload/board/2887055910_t617SmTM_20240610052505.pdf', 'snippet': '그 근거는 우선 1분기 경제성장률이. 예상 밖으로 호조를 보인 데에 따른 것이다. 또한, 수출 경기의 회복 강도가 견조. 한 가운데 내수 부진으로 수입이 ...', 'date': '2024. 6. 10.', 'attributes': {'누락된 검색어': '알려줘 | 필수 포함 항목:알려줘'}, 'position': 2}, {'title': '2024년 경제성장률, 0.5%p 상향조정한 2.7% | 국내연구자료', 'link': 'https://eiec.kdi.re.kr/policy/domesticView.do?ac=0000185153', 'snippet': '2024년 경제성장률은 잠재성장률 수준(2% 내외)을 넘어서는 2.7%로 예상되며, 이는 기존 전망치(현대경제연구원 1월 전망 2.2%)에서 0.5%p 상향조정된 것임. 다음으로 민간 ...', 'attributes': {'누락된 검색어': '알려줘 | 필수 포함 항목:알려줘'}, 'position': 3}, {'title': 'KDI 경제전망 수정2024. 2 - 대한민국 정책브리핑', 'link': 'https://m.korea.kr/briefing/policyBriefingView.do?newsId=156615269', 'snippet': '국내경제에 대해서 말씀드리면 2024년 우리 경제는 소비와 투자의 증가세가 둔화되는 반면에 수출 회복세는 오히려 확대되면서 경제성장률이 2.2%를 기록 ...', 'date': '2024. 2. 14.', 'attributes': {'누락된 검색어': '알려줘 | 필수 포함 항목:알려줘'}, 'position': 4}, {'title': '경제전망(2024년 5월) | 통화정책 보도자료(상세) - 한국은행', 'link': 'https://www.bok.or.kr/portal/bbs/P0000559/view.do?nttId=10084273&menuNo=200690&pageIndex=1', 'snippet': '□ 올해 국내성장률 전망은 2.5%로 지난 2월 전망(2.1%) 대비 상향조정. ㅇ 소비자 ... 에 5조원 추가 지원 2019.09.01 · 통화정책 보도자료 [보도참고자료] 김동연 ...', 'attributes': {'누락된 검색어': '대해 알려줘'}, 'position': 5}, {'title': 'OECD, 한국 올해 성장률 전망치 2.2%서 2.6%로 높여 - 한겨레', 'link': 'https://www.hani.co.kr/arti/economy/economy_general/1139097.html', 'snippet': '오이시디가 29일 발표한 세계경제 전망보고서를 보면, “한국의 성장률은 2023년 1.3%에서 2024년 2.6%로 강건해질 것으로 전망된다”고 밝혔다. 이는 ...', 'date': '2024. 5. 2.', 'attributes': {'누락된 검색어': '대해 알려줘'}, 'position': 6}], 'relatedSearches': [{'query': '대한민국 기획재정부'}, {'query': '2024년 경제성장률 전망'}, {'query': '2024년 한국 경제전망'}, {'query': '2024년 경제전망'}, {'query': '2024년 물가상승률 전망'}, {'query': '2024년 경제전망 pdf'}, {'query': '한국은행 경제전망보고서 2024'}, {'query': '삼성경제연구소 2024년 경제전망'}, {'query': '한국은행 2024년 물가상승률'}]}\n"
     ]
    }
   ],
   "source": [
    "import http.client\n",
    "import json\n",
    "\n",
    "conn = http.client.HTTPSConnection(\"google.serper.dev\")\n",
    "payload = json.dumps({\n",
    "  \"q\": \"2024년 한국 경제 성장률에 대해 알려줘\",\n",
    "  \"hl\": \"ko\",\n",
    "  \"num\": 6\n",
    "})\n",
    "headers = {\n",
    "  'X-API-KEY': 'a9f1505cdc10ff0bc48a215875ffbd3ca3a2ea2d',\n",
    "  'Content-Type': 'application/json'\n",
    "}\n",
    "conn.request(\"POST\", \"/search\", payload, headers)\n",
    "res = conn.getresponse()\n",
    "data = res.read()\n",
    "print(json.loads(data.decode(\"utf-8\")))"
   ]
  },
  {
   "cell_type": "code",
   "execution_count": null,
   "id": "784d8794-4d4e-477f-a203-685213ed0c82",
   "metadata": {},
   "outputs": [],
   "source": []
  },
  {
   "cell_type": "code",
   "execution_count": 16,
   "id": "f119591f-8864-46d4-8cbb-3ed872a05b7a",
   "metadata": {},
   "outputs": [],
   "source": [
    "import json\n",
    "file=\"/workspace/q_set.json\"\n",
    "with open(file) as f:\n",
    "    json_object = json.load(f)"
   ]
  },
  {
   "cell_type": "code",
   "execution_count": 21,
   "id": "fa45dbda-24e8-45a9-8410-d055498baf5e",
   "metadata": {
    "scrolled": true
   },
   "outputs": [],
   "source": [
    "quastions=list(json_object[0]['quastions'].keys())"
   ]
  },
  {
   "cell_type": "code",
   "execution_count": null,
   "id": "0ae537b4-0979-4b2a-8692-0915f8367dad",
   "metadata": {},
   "outputs": [],
   "source": []
  },
  {
   "cell_type": "code",
   "execution_count": 15,
   "id": "b9132b99-0c7c-4494-9c3e-ab125e56786d",
   "metadata": {
    "scrolled": true
   },
   "outputs": [
    {
     "data": {
      "text/plain": [
       "{'searchParameters': {'q': '2024년 한국 경제 성장률에 대해 알려줘',\n",
       "  'type': 'search',\n",
       "  'engine': 'google'},\n",
       " 'answerBox': {'snippet': \"현대경제연구원은 2024년 한국 경제성장률에 대하여 지난 전망치 2.2%('24년 1월 전망 시점)에서 2.7%로 0.5%p 상향조정한다. 그 근거는 우선 1분기 경제성장률이 예상 밖으로 호조를 보인 데에 따른 것이다.\",\n",
       "  'snippetHighlighted': ['2.7%'],\n",
       "  'title': '2024년 한국 경제 전망(수정)',\n",
       "  'link': 'https://hri.co.kr/upload/board/2887055910_t617SmTM_20240610052505.pdf',\n",
       "  'date': 'Jun 10, 2024'},\n",
       " 'organic': [{'title': 'OECD, 2024년 한국 경제성장률 2.6%, 물가상승률 2.6% 전망',\n",
       "   'link': 'https://eiec.kdi.re.kr/policy/materialView.do?num=251108',\n",
       "   'snippet': \"- 세계경제 성장 흐름은 향후에도 지속될 것으로 전망하면서, 세계경제 성장률을 '24년 3.1%('24.2월 전망 대비 +0.2%p), '25년 3.2%(+0.2%p)로 예측하였음. - 물가상승률 ...\",\n",
       "   'attributes': {'Missing': '대해 알려줘'},\n",
       "   'position': 1},\n",
       "  {'title': 'KDI 경제전망, 2024 상반기 - KDI 한국개발연구원 - 연구',\n",
       "   'link': 'https://www.kdi.re.kr/research/economy',\n",
       "   'snippet': '2024년에 수출이 급증하면서 2.6% 성장한 후, 2025년에는 내수 부진은 완화되겠으나 수출 증가세가 조정되면서 2.1% 성장할 전망. 소비자물가 상승률은 2024년에 내수 ...',\n",
       "   'attributes': {'Missing': '알려줘 | Show results with:알려줘'},\n",
       "   'position': 2},\n",
       "  {'title': 'KDI 경제전망 수정2024. 2 - 대한민국 정책브리핑',\n",
       "   'link': 'https://m.korea.kr/briefing/policyBriefingView.do?newsId=156615269',\n",
       "   'snippet': '국내경제에 대해서 말씀드리면 2024년 우리 경제는 소비와 투자의 증가세가 둔화되는 반면에 수출 회복세는 오히려 확대되면서 경제성장률이 2.2%를 기록 ...',\n",
       "   'date': 'Feb 14, 2024',\n",
       "   'attributes': {'Missing': '알려줘 | Show results with:알려줘'},\n",
       "   'position': 3},\n",
       "  {'title': '경제전망(2024년 5월) | 통화정책 보도자료(상세) - 한국은행',\n",
       "   'link': 'https://www.bok.or.kr/portal/bbs/P0000559/view.do?nttId=10084273&menuNo=200690&pageIndex=1',\n",
       "   'snippet': '□ 올해 국내성장률 전망은 2.5%로 지난 2월 전망(2.1%) 대비 상향조정. ㅇ 소비자 ... 에 5조원 추가 지원 2019.09.01 · 통화정책 보도자료 [보도참고자료] 김동연 ...',\n",
       "   'attributes': {'Missing': '대해 알려줘'},\n",
       "   'position': 4},\n",
       "  {'title': 'OECD, 한국 올해 성장률 전망치 2.2%서 2.6%로 높여 - 한겨레',\n",
       "   'link': 'https://www.hani.co.kr/arti/economy/economy_general/1139097.html',\n",
       "   'snippet': '오이시디가 29일 발표한 세계경제 전망보고서를 보면, “한국의 성장률은 2023년 1.3%에서 2024년 2.6%로 강건해질 것으로 전망된다”고 밝혔다. 이는 ...',\n",
       "   'date': 'May 2, 2024',\n",
       "   'attributes': {'Missing': '대해 알려줘'},\n",
       "   'position': 5},\n",
       "  {'title': '[HWP] 보도참고자료 2024. 3. 29.(금) - 국회예산정책처',\n",
       "   'link': 'https://www.nabo.go.kr/system/common/JSPservlet/download.jsp?fCode=33317952&fSHC=&fName=%5B%EB%B3%B4%EB%8F%84%EC%9E%90%EB%A3%8C%5D+%EA%B5%AD%ED%9A%8C%EC%98%88%EC%82%B0%EC%A0%95%EC%B1%85%EC%B2%98+%E3%80%8C2024+%EA%B2%BD%EC%A0%9C%EC%A0%84%EB%A7%9D+%EC%8B%9C%EB%A6%AC%EC%A6%88%E3%80%8D+%EB%B0%9C%EA%B0%84.hwp&fMime=application/x-hwp&fBid=8&flag=bluenet',\n",
       "   'snippet': '이번 전망에서는 지난 10월 전망 이후의 변화된 국내외 경제여건을 반영하여 2024년 경제성장률을 2.2%로 0.2%p 상향 조정하였다. ... 2024년 국내경제의 ...',\n",
       "   'date': 'Mar 29, 2024',\n",
       "   'attributes': {'Missing': '대해 알려줘'},\n",
       "   'position': 6},\n",
       "  {'title': '[PDF] 2024년 국내경제 전망 - KDB미래전략연구소',\n",
       "   'link': 'https://rd.kdb.co.kr/fileView?groupId=7DA58C73-CCDF-1660-65B4-477DA63BD019&fileId=14DC4A89-7112-1088-6E43-14A4DEF55DE0',\n",
       "   'snippet': '2024년 경제성장률은 전년도 낮은 성장률에 따른 기저효과, 수출 및 설비투자. 회복 등으로 2.2 수준의 완만한 성장세가 예상되나, 고금리 장기화에 따른 실물.',\n",
       "   'attributes': {'Missing': '알려줘 | Show results with:알려줘'},\n",
       "   'position': 7},\n",
       "  {'title': '혁신성장과 민생경제-전체보기 - 대한민국 정책브리핑',\n",
       "   'link': 'https://www.korea.kr/news/policyFocusList.do?pkgId=49500763&pkgSubId=25000112',\n",
       "   'snippet': '문재인 정부 4년···경제정책 성과와 과제는? 최대환 앵커 문재인 정부는 출범 초기부터 소득주도성장과 혁신성장을 지원하며 경제성장의 기반을 그동안 탄탄히 다져 ...',\n",
       "   'position': 8}],\n",
       " 'images': [{'title': '2024년 한국 경제 성장률 2.1% 예상”…한국은행‧한국금융연구원 등 ...',\n",
       "   'imageUrl': 'https://www.100ssd.co.kr/news/photo/202312/105286_85341_1935.jpg',\n",
       "   'link': 'https://www.100ssd.co.kr/news/articleView.html?idxno=105286'},\n",
       "  {'title': '그래픽] 주요 기관 2024년 한국 경제성장률 전망 | 연합뉴스',\n",
       "   'imageUrl': 'https://img5.yna.co.kr/etc/graphic/YH/2023/12/31/GYH2023123100030004400_P4.jpg',\n",
       "   'link': 'https://www.yna.co.kr/view/GYH20231231000300044'},\n",
       "  {'title': '2024 국내 경제 | 경제성장률 2.1% 전망 : TREND.M | 아이디어 | 이코노미',\n",
       "   'imageUrl': 'https://cdn.imweb.me/thumbnail/20231013/a96b0424c8706.jpg',\n",
       "   'link': 'https://trend-m.com/idea_economy/?idx=16583103&bmode=view'},\n",
       "  {'title': \"OECD, 세계 경제성장률 전망치 '상향' 조정…한국은 0.1%p 하향\",\n",
       "   'imageUrl': 'https://economist.co.kr/data/ecn/image/2024/02/05/ecn20240205000051.jpg',\n",
       "   'link': 'https://economist.co.kr/article/view/ecn202402050047'},\n",
       "  {'title': \"내년 한국경제 전망은?…'2% 내외 성장률 예상” / KBS 2023.12.31 ...\",\n",
       "   'imageUrl': 'https://i.ytimg.com/vi/4EwXh7odZCQ/maxresdefault.jpg',\n",
       "   'link': 'https://www.youtube.com/watch?v=4EwXh7odZCQ'},\n",
       "  {'title': '내년 한국경제 성장 “2%” 그칠 것 < 물류 < 기사본문 - 카고뉴스 ...',\n",
       "   'imageUrl': 'https://cdn.cargonews.co.kr/news/photo/202312/53933_50993_26.png',\n",
       "   'link': 'https://www.cargonews.co.kr/news/articleView.html?idxno=53933'}],\n",
       " 'relatedSearches': [{'query': 'Bank of Korea'},\n",
       "  {'query': '2024 한국 경제성장률'},\n",
       "  {'query': '2024 한국 경제 전망'},\n",
       "  {'query': '2024년 물가상승률 전망'},\n",
       "  {'query': '2024년 경제전망'},\n",
       "  {'query': '2024년 경제전망 한국은행'},\n",
       "  {'query': '2024년 경제성장률'},\n",
       "  {'query': '2024년 경제전망 pdf'},\n",
       "  {'query': '2024년 한국 경제성장률 전망'}]}"
      ]
     },
     "execution_count": 15,
     "metadata": {},
     "output_type": "execute_result"
    }
   ],
   "source": [
    "for q in quastions:\n",
    "    payload = json.dumps({\n",
    "      \"q\": q,\n",
    "      \"hl\": \"ko\",\n",
    "      \"num\": 6\n",
    "    })\n",
    "    res = conn.getresponse()\n",
    "    data = res.read()\n",
    "    res=json.loads(data.decode(\"utf-8\"))[\"organic\"]\n",
    "    for r in res:\n",
    "        "
   ]
  },
  {
   "cell_type": "code",
   "execution_count": 30,
   "id": "f94555d4-3617-4cf1-ab3f-00dfb871ae2e",
   "metadata": {},
   "outputs": [
    {
     "data": {
      "text/plain": [
       "[{'title': 'OECD, 2024년 한국 경제성장률 2.6%, 물가상승률 2.6% 전망',\n",
       "  'link': 'https://eiec.kdi.re.kr/policy/materialView.do?num=251108',\n",
       "  'snippet': \"- 세계경제 성장 흐름은 향후에도 지속될 것으로 전망하면서, 세계경제 성장률을 '24년 3.1%('24.2월 전망 대비 +0.2%p), '25년 3.2%(+0.2%p)로 예측하였음. - 물가상승률 ...\",\n",
       "  'attributes': {'누락된 검색어': '대해 알려줘'},\n",
       "  'position': 1},\n",
       " {'title': '[PDF] 2024년 한국 경제 전망(수정)',\n",
       "  'link': 'https://hri.co.kr/upload/board/2887055910_t617SmTM_20240610052505.pdf',\n",
       "  'snippet': '그 근거는 우선 1분기 경제성장률이. 예상 밖으로 호조를 보인 데에 따른 것이다. 또한, 수출 경기의 회복 강도가 견조. 한 가운데 내수 부진으로 수입이 ...',\n",
       "  'date': '2024. 6. 10.',\n",
       "  'attributes': {'누락된 검색어': '알려줘 | 필수 포함 항목:알려줘'},\n",
       "  'position': 2},\n",
       " {'title': '2024년 경제성장률, 0.5%p 상향조정한 2.7% | 국내연구자료',\n",
       "  'link': 'https://eiec.kdi.re.kr/policy/domesticView.do?ac=0000185153',\n",
       "  'snippet': '2024년 경제성장률은 잠재성장률 수준(2% 내외)을 넘어서는 2.7%로 예상되며, 이는 기존 전망치(현대경제연구원 1월 전망 2.2%)에서 0.5%p 상향조정된 것임. 다음으로 민간 ...',\n",
       "  'attributes': {'누락된 검색어': '알려줘 | 필수 포함 항목:알려줘'},\n",
       "  'position': 3},\n",
       " {'title': 'KDI 경제전망 수정2024. 2 - 대한민국 정책브리핑',\n",
       "  'link': 'https://m.korea.kr/briefing/policyBriefingView.do?newsId=156615269',\n",
       "  'snippet': '국내경제에 대해서 말씀드리면 2024년 우리 경제는 소비와 투자의 증가세가 둔화되는 반면에 수출 회복세는 오히려 확대되면서 경제성장률이 2.2%를 기록 ...',\n",
       "  'date': '2024. 2. 14.',\n",
       "  'attributes': {'누락된 검색어': '알려줘 | 필수 포함 항목:알려줘'},\n",
       "  'position': 4},\n",
       " {'title': '경제전망(2024년 5월) | 통화정책 보도자료(상세) - 한국은행',\n",
       "  'link': 'https://www.bok.or.kr/portal/bbs/P0000559/view.do?nttId=10084273&menuNo=200690&pageIndex=1',\n",
       "  'snippet': '□ 올해 국내성장률 전망은 2.5%로 지난 2월 전망(2.1%) 대비 상향조정. ㅇ 소비자 ... 에 5조원 추가 지원 2019.09.01 · 통화정책 보도자료 [보도참고자료] 김동연 ...',\n",
       "  'attributes': {'누락된 검색어': '대해 알려줘'},\n",
       "  'position': 5},\n",
       " {'title': 'OECD, 한국 올해 성장률 전망치 2.2%서 2.6%로 높여 - 한겨레',\n",
       "  'link': 'https://www.hani.co.kr/arti/economy/economy_general/1139097.html',\n",
       "  'snippet': '오이시디가 29일 발표한 세계경제 전망보고서를 보면, “한국의 성장률은 2023년 1.3%에서 2024년 2.6%로 강건해질 것으로 전망된다”고 밝혔다. 이는 ...',\n",
       "  'date': '2024. 5. 2.',\n",
       "  'attributes': {'누락된 검색어': '대해 알려줘'},\n",
       "  'position': 6}]"
      ]
     },
     "execution_count": 30,
     "metadata": {},
     "output_type": "execute_result"
    }
   ],
   "source": [
    "json.loads(data.decode(\"utf-8\"))[\"organic\"]"
   ]
  },
  {
   "cell_type": "code",
   "execution_count": null,
   "id": "6aa55d0c-ac31-4de6-b321-c4531590fb44",
   "metadata": {},
   "outputs": [],
   "source": []
  }
 ],
 "metadata": {
  "kernelspec": {
   "display_name": "Python 3 (ipykernel)",
   "language": "python",
   "name": "python3"
  },
  "language_info": {
   "codemirror_mode": {
    "name": "ipython",
    "version": 3
   },
   "file_extension": ".py",
   "mimetype": "text/x-python",
   "name": "python",
   "nbconvert_exporter": "python",
   "pygments_lexer": "ipython3",
   "version": "3.10.12"
  }
 },
 "nbformat": 4,
 "nbformat_minor": 5
}
