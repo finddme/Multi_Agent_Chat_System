{
    "cells": [
        {
            "cell_type": "code",
            "execution_count": 1,
            "id": "355ed0ae-f6f0-4591-bfc7-ef904f8dadea",
            "metadata": {},
            "outputs": [],
            "source": [
                "from langchain_anthropic import ChatAnthropic\n",
                "claude_api_key=\"\"\n",
                "llm = ChatAnthropic(model=\"claude-3-5-sonnet-20240620\",api_key=claude_api_key)"
            ]
        },
        {
            "cell_type": "code",
            "execution_count": 10,
            "id": "c4159d8b-d580-4691-8867-2e07e134b080",
            "metadata": {},
            "outputs": [],
            "source": [
                "from langchain_core.pydantic_v1 import BaseModel, Field\n",
                "from typing import Literal\n",
                "from langchain_core.prompts import ChatPromptTemplate\n",
                "from langchain_core.output_parsers import StrOutputParser\n",
                "def hyde(query):\n",
                "    prompt = ChatPromptTemplate.from_template(\n",
                "        \"\"\"You're an AI language assistant. \n",
                "        Please write a passage to answer the question.\n",
                "        By doing so, you're helping the user with more information.\n",
                "        Don't explain the question. Only provide a more broader version of it.\n",
                "        The output should be in Korean.\n",
                "        \n",
                "        Question: {question}\n",
                "        Output:\n",
                "        \"\"\"\n",
                "        )\n",
                "    \n",
                "    # Chain\n",
                "    hyde_chain = prompt | llm | StrOutputParser()\n",
                "    generation = hyde_chain.invoke({\"question\": query})\n",
                "    return generation"
            ]
        },
        {
            "cell_type": "code",
            "execution_count": 11,
            "id": "bf644047-0103-413a-832a-613ea9dab6c4",
            "metadata": {},
            "outputs": [
                {
                    "data": {
                        "text/plain": [
                            "'2022년부터 2023년 사이에 인공지능 분야에서 큰 주목을 받은 대규모 언어 모델(LLM)들이 여러 개 있었습니다. 그 중에서도 OpenAI의 GPT-3.5와 GPT-4, Google의 PaLM과 LaMDA, Anthropic의 Claude, Meta의 LLaMA 등이 특히 주목받았습니다.\\n\\nGPT-3.5와 GPT-4는 ChatGPT를 통해 대중에게 널리 알려졌으며, 다양한 작업에서 뛰어난 성능을 보여주었습니다. Google의 PaLM은 540B 파라미터로 당시 최대 규모의 모델이었으며, LaMDA는 대화 능력에 특화되어 있었습니다.\\n\\nAnthropic의 Claude는 윤리적이고 안전한 AI를 목표로 개발되었으며, Meta의 LLaMA는 오픈소스로 공개되어 많은 개발자들이 활용할 수 있게 되었습니다. 이외에도 DeepMind의 Chinchilla, AI21 Labs의 Jurassic-1 등 다양한 모델들이 발표되었습니다.\\n\\n이러한 LLM들은 자연어 처리 능력을 크게 향상시켰고, 텍스트 생성, 번역, 요약, 질문 답변 등 다양한 분야에서 혁신적인 성능을 보여주었습니다. 또한 이들의 등장으로 AI 윤리, 데이터 프라이버시, AI의 사회적 영향 등에 대한 논의도 활발해졌습니다.'"
                        ]
                    },
                    "execution_count": 11,
                    "metadata": {},
                    "output_type": "execute_result"
                }
            ],
            "source": [
                "query=\"2022년부터 2023년 사이에 가장 주목 받은 LLM 모델들에 대해 설명해주세요. \"\n",
                "hyde(query)"
            ]
        },
        {
            "cell_type": "code",
            "execution_count": null,
            "id": "5a611c32-b389-49c1-985f-835cd8ded9b3",
            "metadata": {},
            "outputs": [],
            "source": []
        }
    ],
    "metadata": {
        "kernelspec": {
            "display_name": "Python 3 (ipykernel)",
            "language": "python",
            "name": "python3"
        },
        "language_info": {
            "codemirror_mode": {
                "name": "ipython",
                "version": 3
            },
            "file_extension": ".py",
            "mimetype": "text/x-python",
            "name": "python",
            "nbconvert_exporter": "python",
            "pygments_lexer": "ipython3",
            "version": "3.10.12"
        }
    },
    "nbformat": 4,
    "nbformat_minor": 5
}