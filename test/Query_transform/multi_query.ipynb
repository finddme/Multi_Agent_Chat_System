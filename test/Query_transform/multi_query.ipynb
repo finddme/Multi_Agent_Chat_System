{
    "cells": [
        {
            "cell_type": "code",
            "execution_count": 1,
            "id": "d678ae07-10be-47f6-ac43-21df3128d3df",
            "metadata": {},
            "outputs": [],
            "source": [
                "from langchain_anthropic import ChatAnthropic\n",
                "claude_api_key=\"\"\n",
                "llm = ChatAnthropic(model=\"claude-3-5-sonnet-20240620\",api_key=claude_api_key)"
            ]
        },
        {
            "cell_type": "code",
            "execution_count": 6,
            "id": "462a4ff1-4b05-46c1-97e0-1a0ca51d5162",
            "metadata": {},
            "outputs": [],
            "source": [
                "from langchain_core.pydantic_v1 import BaseModel, Field\n",
                "from typing import Literal\n",
                "from langchain_core.prompts import ChatPromptTemplate\n",
                "from langchain_core.output_parsers import StrOutputParser\n",
                "\n",
                "def multi_query(query):\n",
                "    prompt = ChatPromptTemplate.from_template(\n",
                "        \"\"\"You are an AI language model assistant. \n",
                "        Your task is to create five versions of the user's question to fetch documents from a vector database. \n",
                "        By offering multiple perspectives on the user's question, your goal is to assist the user in overcoming some of the restrictions of distance-based similarity search. \n",
                "        Give these alternative questions, each on a new line.\n",
                "        The output should be in Korean.\n",
                "        \n",
                "        Question: {question}\n",
                "        Output:\n",
                "        \"\"\"\n",
                "        )\n",
                "    \n",
                "    # Chain\n",
                "    multi_query_chain = prompt | llm | StrOutputParser() | (lambda x: x.split(\"\\n\"))\n",
                "    generation = multi_query_chain.invoke({\"question\": query})\n",
                "    return generation"
            ]
        },
        {
            "cell_type": "code",
            "execution_count": 7,
            "id": "978023dc-dbb8-4738-9d82-d6b167707e1d",
            "metadata": {},
            "outputs": [
                {
                    "data": {
                        "text/plain": [
                            "['2022년부터 2023년 사이에 주목받은 주요 LLM 모델들은 무엇인가요?',\n",
                            " '최근 2년간 인공지능 언어 모델 분야에서 가장 혁신적인 발전은 어떤 것들이 있었나요?',\n",
                            " 'ChatGPT와 GPT-4 외에 주목할 만한 대규모 언어 모델은 어떤 것들이 있나요?',\n",
                            " '2022-2023년 사이 출시된 LLM 모델들의 특징과 성능을 비교해주세요.',\n",
                            " '최근 LLM 기술 발전 동향과 주요 기업들의 AI 언어 모델 개발 현황은 어떠한가요?']"
                        ]
                    },
                    "execution_count": 7,
                    "metadata": {},
                    "output_type": "execute_result"
                }
            ],
            "source": [
                "query=\"2022년부터 2023년 사이에 가장 주목 받은 LLM 모델들에 대해 설명해주세요. \"\n",
                "multi_query(query)"
            ]
        },
        {
            "cell_type": "code",
            "execution_count": null,
            "id": "2a4ce3c2-e66d-43ed-b7d2-c92f03f49a34",
            "metadata": {},
            "outputs": [],
            "source": []
        }
    ],
    "metadata": {
        "kernelspec": {
            "display_name": "Python 3 (ipykernel)",
            "language": "python",
            "name": "python3"
        },
        "language_info": {
            "codemirror_mode": {
                "name": "ipython",
                "version": 3
            },
            "file_extension": ".py",
            "mimetype": "text/x-python",
            "name": "python",
            "nbconvert_exporter": "python",
            "pygments_lexer": "ipython3",
            "version": "3.10.12"
        }
    },
    "nbformat": 4,
    "nbformat_minor": 5
}